{
 "cells": [
  {
   "cell_type": "code",
   "execution_count": 1,
   "id": "c0b5806e",
   "metadata": {},
   "outputs": [
    {
     "name": "stdout",
     "output_type": "stream",
     "text": [
      "250 / 491 (51% created, 60% preprocessed) elements processed in 0.33s ...\n"
     ]
    }
   ],
   "source": [
    "import ifc2duckdb\n",
    "import ifcopenshell\n",
    "    # For SQLite\n",
    "patcher = ifc2duckdb.Patcher(\n",
    "    ifcopenshell.open(\"racbasicsampleproject.ifc\"),\n",
    "    database=\"output.duckdb\", # Path to your SQLite database file\n",
    "    # Optional arguments:\n",
    "    # full_schema=True,\n",
    "    # is_strict=False,\n",
    "    # should_expand=True,\n",
    "    # should_get_inverses=True,\n",
    "    # should_get_psets=True,\n",
    "    # should_get_geometry=True,\n",
    ")\n",
    "patcher.patch()"
   ]
  }
 ],
 "metadata": {
  "kernelspec": {
   "display_name": "base",
   "language": "python",
   "name": "python3"
  },
  "language_info": {
   "codemirror_mode": {
    "name": "ipython",
    "version": 3
   },
   "file_extension": ".py",
   "mimetype": "text/x-python",
   "name": "python",
   "nbconvert_exporter": "python",
   "pygments_lexer": "ipython3",
   "version": "3.12.9"
  }
 },
 "nbformat": 4,
 "nbformat_minor": 5
}
