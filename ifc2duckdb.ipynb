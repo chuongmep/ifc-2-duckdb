{
 "cells": [
  {
   "cell_type": "code",
   "execution_count": null,
   "id": "c0b5806e",
   "metadata": {},
   "outputs": [],
   "source": [
    "import ifc2duckdb\n",
    "import ifcopenshell\n",
    "import logging\n",
    "\n",
    "# Fully silence package logs\n",
    "logger = logging.getLogger(\"ifc2duckdb\")\n",
    "logger.disabled = True\n",
    "# For SQLite\n",
    "patcher = ifc2duckdb.Patcher(\n",
    "    ifcopenshell.open(\"Snowdon Towers Sample HVAC.ifc\"),\n",
    "    logger=logger,\n",
    "    database=\"test1.duckdb\", # Path to your SQLite database file\n",
    "    # Optional arguments:\n",
    "    full_schema=False,\n",
    "    # is_strict=False,\n",
    "    # should_expand=True,\n",
    "    # should_get_inverses=True,\n",
    "    # should_get_psets=True,\n",
    "    # should_get_geometry=True,\n",
    ")\n",
    "patcher.patch()"
   ]
  },
  {
   "cell_type": "markdown",
   "id": "11a6788c",
   "metadata": {},
   "source": [
    "## How to use and print log \n"
   ]
  },
  {
   "cell_type": "code",
   "execution_count": 2,
   "id": "fe37ad3b",
   "metadata": {},
   "outputs": [
    {
     "name": "stderr",
     "output_type": "stream",
     "text": [
      "2025-09-15 23:02:40,771 - INFO - Processed 250/2635 | created=9% preprocessed=3% | batch=0.06s rate=3900.5/s | elapsed=0.06s ETA=0.61s\n",
      "2025-09-15 23:02:40,788 - INFO - Processed 500/2635 | created=19% preprocessed=3% | batch=0.01s rate=16682.2/s | elapsed=0.08s ETA=0.13s\n",
      "2025-09-15 23:02:40,936 - INFO - Processed 750/2635 | created=28% preprocessed=11% | batch=0.14s rate=1727.2/s | elapsed=0.23s ETA=1.09s\n",
      "2025-09-15 23:02:40,941 - INFO - Processed 1000/2635 | created=38% preprocessed=11% | batch=0.00s rate=70209.3/s | elapsed=0.23s ETA=0.02s\n",
      "2025-09-15 23:02:40,947 - INFO - Processed 1250/2635 | created=47% preprocessed=11% | batch=0.00s rate=55965.8/s | elapsed=0.24s ETA=0.02s\n",
      "2025-09-15 23:02:41,115 - INFO - Processed 1500/2635 | created=57% preprocessed=22% | batch=0.17s rate=1509.5/s | elapsed=0.41s ETA=0.75s\n",
      "2025-09-15 23:02:41,268 - INFO - Processed 1750/2635 | created=66% preprocessed=39% | batch=0.15s rate=1651.1/s | elapsed=0.56s ETA=0.54s\n",
      "2025-09-15 23:02:41,398 - INFO - Processed 2000/2635 | created=76% preprocessed=58% | batch=0.13s rate=1936.7/s | elapsed=0.69s ETA=0.33s\n",
      "2025-09-15 23:02:41,512 - INFO - Processed 2250/2635 | created=85% preprocessed=79% | batch=0.11s rate=2252.2/s | elapsed=0.80s ETA=0.17s\n",
      "2025-09-15 23:02:41,761 - INFO - Processed 2500/2635 | created=95% preprocessed=97% | batch=0.25s rate=1008.4/s | elapsed=1.05s ETA=0.13s\n"
     ]
    }
   ],
   "source": [
    "import logging\n",
    "import ifcopenshell\n",
    "import ifc2duckdb\n",
    "\n",
    "logger = logging.getLogger(\"ifc2duckdb\")\n",
    "logger.setLevel(logging.INFO)  # or logging.DEBUG\n",
    "if not logger.handlers:\n",
    "    h = logging.StreamHandler()\n",
    "    h.setFormatter(logging.Formatter(\"%(asctime)s - %(levelname)s - %(message)s\"))\n",
    "    logger.addHandler(h)\n",
    "\n",
    "f = ifcopenshell.open(\"Snowdon Towers Sample HVAC.ifc\")\n",
    "ifc2duckdb.Patcher(f, database=\"test2.duckdb\", logger=logger).patch()"
   ]
  }
 ],
 "metadata": {
  "kernelspec": {
   "display_name": "base",
   "language": "python",
   "name": "python3"
  },
  "language_info": {
   "codemirror_mode": {
    "name": "ipython",
    "version": 3
   },
   "file_extension": ".py",
   "mimetype": "text/x-python",
   "name": "python",
   "nbconvert_exporter": "python",
   "pygments_lexer": "ipython3",
   "version": "3.12.9"
  }
 },
 "nbformat": 4,
 "nbformat_minor": 5
}
